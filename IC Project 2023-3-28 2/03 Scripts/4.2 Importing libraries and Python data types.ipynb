{
 "cells": [
  {
   "cell_type": "markdown",
   "id": "1b18c078",
   "metadata": {},
   "source": [
    "#1. Importing libraries"
   ]
  },
  {
   "cell_type": "code",
   "execution_count": null,
   "id": "0f7a329e",
   "metadata": {},
   "outputs": [],
   "source": [
    "#Importing libraries\n",
    "import pandas as pd\n",
    "import numpy as np\n",
    "import os"
   ]
  },
  {
   "cell_type": "markdown",
   "id": "fe71df76",
   "metadata": {},
   "source": [
    "#2. Python data types"
   ]
  },
  {
   "cell_type": "code",
   "execution_count": 2,
   "id": "e86659e1",
   "metadata": {},
   "outputs": [
    {
     "data": {
      "text/plain": [
       "100"
      ]
     },
     "execution_count": 2,
     "metadata": {},
     "output_type": "execute_result"
    }
   ],
   "source": [
    "x = 20\n",
    "y = 80\n",
    "y + x"
   ]
  },
  {
   "cell_type": "code",
   "execution_count": 3,
   "id": "35a26053",
   "metadata": {},
   "outputs": [
    {
     "data": {
      "text/plain": [
       "100"
      ]
     },
     "execution_count": 3,
     "metadata": {},
     "output_type": "execute_result"
    }
   ],
   "source": [
    "y + 20"
   ]
  },
  {
   "cell_type": "code",
   "execution_count": 4,
   "id": "f473c4c4",
   "metadata": {},
   "outputs": [
    {
     "name": "stdout",
     "output_type": "stream",
     "text": [
      "100\n"
     ]
    }
   ],
   "source": [
    "y = y + 20\n",
    "print(y)"
   ]
  },
  {
   "cell_type": "code",
   "execution_count": 5,
   "id": "86a3af50",
   "metadata": {},
   "outputs": [
    {
     "data": {
      "text/plain": [
       "3.580838323353294"
      ]
     },
     "execution_count": 5,
     "metadata": {},
     "output_type": "execute_result"
    }
   ],
   "source": [
    "a = 5.98\n",
    "b = 1.67\n",
    "a/b"
   ]
  },
  {
   "cell_type": "code",
   "execution_count": 13,
   "id": "1f8c4772",
   "metadata": {},
   "outputs": [
    {
     "data": {
      "text/plain": [
       "'happy'"
      ]
     },
     "execution_count": 13,
     "metadata": {},
     "output_type": "execute_result"
    }
   ],
   "source": [
    "m = 'hap'\n",
    "n = 'py'\n",
    "m + n"
   ]
  },
  {
   "cell_type": "code",
   "execution_count": 12,
   "id": "673be41d",
   "metadata": {},
   "outputs": [
    {
     "data": {
      "text/plain": [
       "'Live here, live now. Live in this moment'"
      ]
     },
     "execution_count": 12,
     "metadata": {},
     "output_type": "execute_result"
    }
   ],
   "source": [
    "k = 'Live here, live now.'\n",
    "j = ' Live in this moment'\n",
    "k + j "
   ]
  },
  {
   "cell_type": "code",
   "execution_count": null,
   "id": "1d8a649a",
   "metadata": {},
   "outputs": [],
   "source": []
  }
 ],
 "metadata": {
  "kernelspec": {
   "display_name": "Python 3 (ipykernel)",
   "language": "python",
   "name": "python3"
  },
  "language_info": {
   "codemirror_mode": {
    "name": "ipython",
    "version": 3
   },
   "file_extension": ".py",
   "mimetype": "text/x-python",
   "name": "python",
   "nbconvert_exporter": "python",
   "pygments_lexer": "ipython3",
   "version": "3.9.13"
  }
 },
 "nbformat": 4,
 "nbformat_minor": 5
}
