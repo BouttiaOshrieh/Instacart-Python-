{
 "cells": [
  {
   "cell_type": "markdown",
   "id": "112ed2c1",
   "metadata": {},
   "source": [
    "# Instacart Grocery Basket Analysis (Part 1)"
   ]
  },
  {
   "cell_type": "markdown",
   "id": "23d756de",
   "metadata": {},
   "source": [
    "### Contents:\n",
    "    \n",
    "1.Importing libraries and files\n",
    "\n",
    "2.Investigating security implications of the data\n",
    "\n",
    "3 Categorizing regions\n",
    "\n",
    "4.Identifying low-activity customers (customers with less than 5 orders) and excluding them from the data.\n",
    "\n",
    "5.Exporting new data frames"
   ]
  },
  {
   "cell_type": "markdown",
   "id": "67f92eac",
   "metadata": {},
   "source": [
    "#### 1.Importing libraries and files"
   ]
  },
  {
   "cell_type": "code",
   "execution_count": 1,
   "id": "f268291c",
   "metadata": {},
   "outputs": [],
   "source": [
    "#importing libraries\n",
    "import pandas as pd\n",
    "import numpy as np\n",
    "import os\n",
    "import matplotlib.pyplot as plt\n",
    "import seaborn as sns\n",
    "import scipy"
   ]
  },
  {
   "cell_type": "code",
   "execution_count": 2,
   "id": "01d14f36",
   "metadata": {},
   "outputs": [],
   "source": [
    "#importing data\n",
    "path = r'/Users/tiaoshrieh/Desktop/IC Project'"
   ]
  },
  {
   "cell_type": "code",
   "execution_count": 3,
   "id": "66bd9a40",
   "metadata": {},
   "outputs": [],
   "source": [
    "all_merged = pd.read_pickle(os.path.join(path, '02 Data','Prepared Data', 'orders_products_customers.pkl'))"
   ]
  },
  {
   "cell_type": "markdown",
   "id": "729d8ced",
   "metadata": {},
   "source": [
    "#### 2.Investigating security implications of the data"
   ]
  },
  {
   "cell_type": "code",
   "execution_count": 4,
   "id": "99c9820c",
   "metadata": {},
   "outputs": [
    {
     "data": {
      "text/html": [
       "<div>\n",
       "<style scoped>\n",
       "    .dataframe tbody tr th:only-of-type {\n",
       "        vertical-align: middle;\n",
       "    }\n",
       "\n",
       "    .dataframe tbody tr th {\n",
       "        vertical-align: top;\n",
       "    }\n",
       "\n",
       "    .dataframe thead th {\n",
       "        text-align: right;\n",
       "    }\n",
       "</style>\n",
       "<table border=\"1\" class=\"dataframe\">\n",
       "  <thead>\n",
       "    <tr style=\"text-align: right;\">\n",
       "      <th></th>\n",
       "      <th>user_id</th>\n",
       "      <th>gender</th>\n",
       "      <th>state</th>\n",
       "      <th>age</th>\n",
       "      <th>date_joined</th>\n",
       "      <th>number_of_dependents</th>\n",
       "      <th>family_status</th>\n",
       "      <th>income</th>\n",
       "      <th>product_id</th>\n",
       "      <th>product_name</th>\n",
       "      <th>...</th>\n",
       "      <th>busiest_days</th>\n",
       "      <th>busiest_period_of_day</th>\n",
       "      <th>max_order</th>\n",
       "      <th>loyalty_flag</th>\n",
       "      <th>avg_price</th>\n",
       "      <th>spending_flag</th>\n",
       "      <th>freq_median</th>\n",
       "      <th>order_frequency_flag</th>\n",
       "      <th>region</th>\n",
       "      <th>exclusion_flag</th>\n",
       "    </tr>\n",
       "  </thead>\n",
       "  <tbody>\n",
       "    <tr>\n",
       "      <th>0</th>\n",
       "      <td>26711</td>\n",
       "      <td>Female</td>\n",
       "      <td>Missouri</td>\n",
       "      <td>48</td>\n",
       "      <td>1/1/2017</td>\n",
       "      <td>3</td>\n",
       "      <td>married</td>\n",
       "      <td>165665</td>\n",
       "      <td>196</td>\n",
       "      <td>Soda</td>\n",
       "      <td>...</td>\n",
       "      <td>Busiest day</td>\n",
       "      <td>Most orders</td>\n",
       "      <td>8</td>\n",
       "      <td>New customer</td>\n",
       "      <td>7.988889</td>\n",
       "      <td>Low spender</td>\n",
       "      <td>19.0</td>\n",
       "      <td>Regular customer</td>\n",
       "      <td>Midwest</td>\n",
       "      <td>high_activity</td>\n",
       "    </tr>\n",
       "    <tr>\n",
       "      <th>1</th>\n",
       "      <td>26711</td>\n",
       "      <td>Female</td>\n",
       "      <td>Missouri</td>\n",
       "      <td>48</td>\n",
       "      <td>1/1/2017</td>\n",
       "      <td>3</td>\n",
       "      <td>married</td>\n",
       "      <td>165665</td>\n",
       "      <td>196</td>\n",
       "      <td>Soda</td>\n",
       "      <td>...</td>\n",
       "      <td>Regularly busy</td>\n",
       "      <td>Most orders</td>\n",
       "      <td>8</td>\n",
       "      <td>New customer</td>\n",
       "      <td>7.988889</td>\n",
       "      <td>Low spender</td>\n",
       "      <td>19.0</td>\n",
       "      <td>Regular customer</td>\n",
       "      <td>Midwest</td>\n",
       "      <td>high_activity</td>\n",
       "    </tr>\n",
       "    <tr>\n",
       "      <th>2</th>\n",
       "      <td>26711</td>\n",
       "      <td>Female</td>\n",
       "      <td>Missouri</td>\n",
       "      <td>48</td>\n",
       "      <td>1/1/2017</td>\n",
       "      <td>3</td>\n",
       "      <td>married</td>\n",
       "      <td>165665</td>\n",
       "      <td>196</td>\n",
       "      <td>Soda</td>\n",
       "      <td>...</td>\n",
       "      <td>Busiest day</td>\n",
       "      <td>Most orders</td>\n",
       "      <td>8</td>\n",
       "      <td>New customer</td>\n",
       "      <td>7.988889</td>\n",
       "      <td>Low spender</td>\n",
       "      <td>19.0</td>\n",
       "      <td>Regular customer</td>\n",
       "      <td>Midwest</td>\n",
       "      <td>high_activity</td>\n",
       "    </tr>\n",
       "    <tr>\n",
       "      <th>3</th>\n",
       "      <td>26711</td>\n",
       "      <td>Female</td>\n",
       "      <td>Missouri</td>\n",
       "      <td>48</td>\n",
       "      <td>1/1/2017</td>\n",
       "      <td>3</td>\n",
       "      <td>married</td>\n",
       "      <td>165665</td>\n",
       "      <td>6184</td>\n",
       "      <td>Clementines</td>\n",
       "      <td>...</td>\n",
       "      <td>Regularly busy</td>\n",
       "      <td>Most orders</td>\n",
       "      <td>8</td>\n",
       "      <td>New customer</td>\n",
       "      <td>7.988889</td>\n",
       "      <td>Low spender</td>\n",
       "      <td>19.0</td>\n",
       "      <td>Regular customer</td>\n",
       "      <td>Midwest</td>\n",
       "      <td>high_activity</td>\n",
       "    </tr>\n",
       "    <tr>\n",
       "      <th>4</th>\n",
       "      <td>26711</td>\n",
       "      <td>Female</td>\n",
       "      <td>Missouri</td>\n",
       "      <td>48</td>\n",
       "      <td>1/1/2017</td>\n",
       "      <td>3</td>\n",
       "      <td>married</td>\n",
       "      <td>165665</td>\n",
       "      <td>6184</td>\n",
       "      <td>Clementines</td>\n",
       "      <td>...</td>\n",
       "      <td>Least busy</td>\n",
       "      <td>Most orders</td>\n",
       "      <td>8</td>\n",
       "      <td>New customer</td>\n",
       "      <td>7.988889</td>\n",
       "      <td>Low spender</td>\n",
       "      <td>19.0</td>\n",
       "      <td>Regular customer</td>\n",
       "      <td>Midwest</td>\n",
       "      <td>high_activity</td>\n",
       "    </tr>\n",
       "  </tbody>\n",
       "</table>\n",
       "<p>5 rows × 33 columns</p>\n",
       "</div>"
      ],
      "text/plain": [
       "   user_id  gender     state  age date_joined  number_of_dependents  \\\n",
       "0    26711  Female  Missouri   48    1/1/2017                     3   \n",
       "1    26711  Female  Missouri   48    1/1/2017                     3   \n",
       "2    26711  Female  Missouri   48    1/1/2017                     3   \n",
       "3    26711  Female  Missouri   48    1/1/2017                     3   \n",
       "4    26711  Female  Missouri   48    1/1/2017                     3   \n",
       "\n",
       "  family_status  income  product_id product_name  ...    busiest_days  \\\n",
       "0       married  165665         196         Soda  ...     Busiest day   \n",
       "1       married  165665         196         Soda  ...  Regularly busy   \n",
       "2       married  165665         196         Soda  ...     Busiest day   \n",
       "3       married  165665        6184  Clementines  ...  Regularly busy   \n",
       "4       married  165665        6184  Clementines  ...      Least busy   \n",
       "\n",
       "   busiest_period_of_day  max_order  loyalty_flag  avg_price  spending_flag  \\\n",
       "0            Most orders          8  New customer   7.988889    Low spender   \n",
       "1            Most orders          8  New customer   7.988889    Low spender   \n",
       "2            Most orders          8  New customer   7.988889    Low spender   \n",
       "3            Most orders          8  New customer   7.988889    Low spender   \n",
       "4            Most orders          8  New customer   7.988889    Low spender   \n",
       "\n",
       "   freq_median  order_frequency_flag   region  exclusion_flag  \n",
       "0         19.0      Regular customer  Midwest   high_activity  \n",
       "1         19.0      Regular customer  Midwest   high_activity  \n",
       "2         19.0      Regular customer  Midwest   high_activity  \n",
       "3         19.0      Regular customer  Midwest   high_activity  \n",
       "4         19.0      Regular customer  Midwest   high_activity  \n",
       "\n",
       "[5 rows x 33 columns]"
      ]
     },
     "execution_count": 4,
     "metadata": {},
     "output_type": "execute_result"
    }
   ],
   "source": [
    "all_merged.head()"
   ]
  },
  {
   "cell_type": "markdown",
   "id": "24d06b0e",
   "metadata": {},
   "source": [
    "There is no PII variable in the combined dataset we are working with.\n",
    "During the process of combining datasets, we used a version of customers dataset without the 'First_Name' and 'Surnam' columns."
   ]
  },
  {
   "cell_type": "markdown",
   "id": "2196fce2",
   "metadata": {},
   "source": [
    "#### 3.Categorizing regions"
   ]
  },
  {
   "cell_type": "code",
   "execution_count": 5,
   "id": "27e72375",
   "metadata": {},
   "outputs": [
    {
     "data": {
      "text/plain": [
       "Alabama                 638003\n",
       "Alaska                  648495\n",
       "Arizona                 653964\n",
       "Arkansas                636144\n",
       "California              659783\n",
       "Colorado                639280\n",
       "Connecticut             623022\n",
       "Delaware                637024\n",
       "District of Columbia    613695\n",
       "Florida                 629027\n",
       "Georgia                 656389\n",
       "Hawaii                  632901\n",
       "Idaho                   607119\n",
       "Illinois                633024\n",
       "Indiana                 627282\n",
       "Iowa                    625493\n",
       "Kansas                  637538\n",
       "Kentucky                632490\n",
       "Louisiana               637482\n",
       "Maine                   638583\n",
       "Maryland                626579\n",
       "Massachusetts           646358\n",
       "Michigan                630928\n",
       "Minnesota               647825\n",
       "Mississippi             632675\n",
       "Missouri                640732\n",
       "Montana                 635265\n",
       "Nebraska                625813\n",
       "Nevada                  636139\n",
       "New Hampshire           615378\n",
       "New Jersey              627692\n",
       "New Mexico              654494\n",
       "New York                635983\n",
       "North Carolina          651900\n",
       "North Dakota            638491\n",
       "Ohio                    628319\n",
       "Oklahoma                651739\n",
       "Oregon                  636425\n",
       "Pennsylvania            667082\n",
       "Rhode Island            656913\n",
       "South Carolina          636754\n",
       "South Dakota            633772\n",
       "Tennessee               617873\n",
       "Texas                   640394\n",
       "Utah                    611941\n",
       "Vermont                 611725\n",
       "Virginia                641421\n",
       "Washington              632852\n",
       "West Virginia           612296\n",
       "Wisconsin               628108\n",
       "Wyoming                 644255\n",
       "Name: state, dtype: int64"
      ]
     },
     "execution_count": 5,
     "metadata": {},
     "output_type": "execute_result"
    }
   ],
   "source": [
    "all_merged['state'].value_counts().sort_index()"
   ]
  },
  {
   "cell_type": "code",
   "execution_count": 6,
   "id": "89f90165",
   "metadata": {},
   "outputs": [],
   "source": [
    "#Categorizing regions\n",
    "\n",
    "region1_NE = ['New Hampshire', 'Maine', 'Massachusetts', 'Vermont', 'Rhode Island', 'Connecticut', 'New York', 'Pennsylvania', 'New Jersey']\n",
    "region2_MW = ['Wisconsin', 'Michigan', 'Illinois', 'Indiana','Ohio', 'North Dakota', 'South Dakota', 'Nebraska', 'Kansas', 'Minnesota' ,'Iowa', 'Missouri']\n",
    "region3_S = ['Delaware', 'Maryland', 'District of Columbia','Virginia','West Virginia','North Carolina','South Carolina','Georgia','Florida','Kentucky','Tennessee','Mississippi','Alabama', 'Oklahoma','Texas','Arkansas','Louisiana']\n",
    "region4_W = ['Idaho','Montana','Wyoming','Nevada','Utah','Colorado','Arizona','New Mexico', 'Alaska','Washington','Oregon','California','Hawaii']"
   ]
  },
  {
   "cell_type": "code",
   "execution_count": 7,
   "id": "3b9cbad8",
   "metadata": {},
   "outputs": [],
   "source": [
    "#Creating 'region' column and assigning values\n",
    "\n",
    "all_merged.loc[all_merged['state'].isin(region1_NE), 'region'] = 'Northeast'\n",
    "all_merged.loc[all_merged['state'].isin(region2_MW), 'region'] = 'Midwest'\n",
    "all_merged.loc[all_merged['state'].isin(region3_S), 'region'] = 'South'\n",
    "all_merged.loc[all_merged['state'].isin(region4_W), 'region'] = 'West'\n"
   ]
  },
  {
   "cell_type": "code",
   "execution_count": 8,
   "id": "630d7cbd",
   "metadata": {
    "scrolled": false
   },
   "outputs": [
    {
     "data": {
      "text/plain": [
       "South        10791885\n",
       "West          8292913\n",
       "Midwest       7597325\n",
       "Northeast     5722736\n",
       "Name: region, dtype: int64"
      ]
     },
     "execution_count": 8,
     "metadata": {},
     "output_type": "execute_result"
    }
   ],
   "source": [
    "all_merged['region'].value_counts()"
   ]
  },
  {
   "cell_type": "code",
   "execution_count": 9,
   "id": "3d3e7244",
   "metadata": {},
   "outputs": [
    {
     "name": "stdout",
     "output_type": "stream",
     "text": [
      "<class 'pandas.core.frame.DataFrame'>\n",
      "Int64Index: 32404859 entries, 0 to 32404858\n",
      "Data columns (total 33 columns):\n",
      " #   Column                  Dtype   \n",
      "---  ------                  -----   \n",
      " 0   user_id                 int64   \n",
      " 1   gender                  object  \n",
      " 2   state                   object  \n",
      " 3   age                     int64   \n",
      " 4   date_joined             object  \n",
      " 5   number_of_dependents    int64   \n",
      " 6   family_status           object  \n",
      " 7   income                  int64   \n",
      " 8   product_id              int64   \n",
      " 9   product_name            object  \n",
      " 10  aisle_id                int64   \n",
      " 11  department_id           int64   \n",
      " 12  prices                  float64 \n",
      " 13  order_id                int64   \n",
      " 14  order_number            int64   \n",
      " 15  orders_day_of_week      int64   \n",
      " 16  order_hour_of_day       int64   \n",
      " 17  days_since_prior_order  float64 \n",
      " 18  add_to_cart_order       float64 \n",
      " 19  reordered               float64 \n",
      " 20  _merge                  category\n",
      " 21  busiest_day             object  \n",
      " 22  price_range_loc         object  \n",
      " 23  busiest_days            object  \n",
      " 24  busiest_period_of_day   object  \n",
      " 25  max_order               int64   \n",
      " 26  loyalty_flag            object  \n",
      " 27  avg_price               float64 \n",
      " 28  spending_flag           object  \n",
      " 29  freq_median             float64 \n",
      " 30  order_frequency_flag    object  \n",
      " 31  region                  object  \n",
      " 32  exclusion_flag          object  \n",
      "dtypes: category(1), float64(6), int64(12), object(14)\n",
      "memory usage: 8.0+ GB\n"
     ]
    }
   ],
   "source": [
    "all_merged.info()"
   ]
  },
  {
   "cell_type": "code",
   "execution_count": 10,
   "id": "38158849",
   "metadata": {},
   "outputs": [],
   "source": [
    "all_merged.to_pickle(os.path.join(path, '02 Data','Prepared Data', 'orders_products_customers.pkl'))"
   ]
  },
  {
   "cell_type": "code",
   "execution_count": 11,
   "id": "3d147e5b",
   "metadata": {},
   "outputs": [],
   "source": [
    "#Using crosstab function to cross the 'region' and 'spending_flag' columns and find the spending habits of customers in each region\n",
    "Crosstab_regional_spending = pd.crosstab(all_merged['region'], all_merged['spending_flag'], dropna = False)"
   ]
  },
  {
   "cell_type": "code",
   "execution_count": 12,
   "id": "a66e38f8",
   "metadata": {},
   "outputs": [
    {
     "data": {
      "text/html": [
       "<div>\n",
       "<style scoped>\n",
       "    .dataframe tbody tr th:only-of-type {\n",
       "        vertical-align: middle;\n",
       "    }\n",
       "\n",
       "    .dataframe tbody tr th {\n",
       "        vertical-align: top;\n",
       "    }\n",
       "\n",
       "    .dataframe thead th {\n",
       "        text-align: right;\n",
       "    }\n",
       "</style>\n",
       "<table border=\"1\" class=\"dataframe\">\n",
       "  <thead>\n",
       "    <tr style=\"text-align: right;\">\n",
       "      <th>spending_flag</th>\n",
       "      <th>High spender</th>\n",
       "      <th>Low spender</th>\n",
       "    </tr>\n",
       "    <tr>\n",
       "      <th>region</th>\n",
       "      <th></th>\n",
       "      <th></th>\n",
       "    </tr>\n",
       "  </thead>\n",
       "  <tbody>\n",
       "    <tr>\n",
       "      <th>Midwest</th>\n",
       "      <td>155975</td>\n",
       "      <td>7441350</td>\n",
       "    </tr>\n",
       "    <tr>\n",
       "      <th>Northeast</th>\n",
       "      <td>108225</td>\n",
       "      <td>5614511</td>\n",
       "    </tr>\n",
       "    <tr>\n",
       "      <th>South</th>\n",
       "      <td>209691</td>\n",
       "      <td>10582194</td>\n",
       "    </tr>\n",
       "    <tr>\n",
       "      <th>West</th>\n",
       "      <td>160354</td>\n",
       "      <td>8132559</td>\n",
       "    </tr>\n",
       "  </tbody>\n",
       "</table>\n",
       "</div>"
      ],
      "text/plain": [
       "spending_flag  High spender  Low spender\n",
       "region                                  \n",
       "Midwest              155975      7441350\n",
       "Northeast            108225      5614511\n",
       "South                209691     10582194\n",
       "West                 160354      8132559"
      ]
     },
     "execution_count": 12,
     "metadata": {},
     "output_type": "execute_result"
    }
   ],
   "source": [
    "#customer spending by region\n",
    "Crosstab_regional_spending"
   ]
  },
  {
   "cell_type": "markdown",
   "id": "f9d7c2bb",
   "metadata": {},
   "source": [
    "#### 4.Identifying low-activity customers (customers with less than 5 orders) and excluding them from the data."
   ]
  },
  {
   "cell_type": "code",
   "execution_count": 13,
   "id": "dd087b67",
   "metadata": {},
   "outputs": [],
   "source": [
    "#Creating an exclusion flag\n",
    "all_merged.loc[all_merged['max_order'] < 5, 'exclusion_flag'] = 'low_activity'\n",
    "all_merged.loc[all_merged['max_order'] >= 5, 'exclusion_flag'] = 'high_activity'"
   ]
  },
  {
   "cell_type": "code",
   "execution_count": 14,
   "id": "ddaf8436",
   "metadata": {},
   "outputs": [
    {
     "data": {
      "text/plain": [
       "high_activity    30964564\n",
       "low_activity      1440295\n",
       "Name: exclusion_flag, dtype: int64"
      ]
     },
     "execution_count": 14,
     "metadata": {},
     "output_type": "execute_result"
    }
   ],
   "source": [
    "all_merged['exclusion_flag'].value_counts()"
   ]
  },
  {
   "cell_type": "code",
   "execution_count": 15,
   "id": "a1b2d8de",
   "metadata": {},
   "outputs": [],
   "source": [
    "#Creating a subset with the low activity customers excluded\n",
    "\n",
    "all_merged_loyal_customers = all_merged.loc[all_merged['exclusion_flag'] == 'high_activity']"
   ]
  },
  {
   "cell_type": "markdown",
   "id": "068b8ddb",
   "metadata": {},
   "source": [
    "#### 5.Exporting new data frames"
   ]
  },
  {
   "cell_type": "code",
   "execution_count": 18,
   "id": "6c5220aa",
   "metadata": {},
   "outputs": [],
   "source": [
    "#exporting the subset\n",
    "all_merged_loyal_customers.to_pickle(os.path.join(path, '02 Data','Prepared Data', 'orders_products_customers_loyal.pkl'))"
   ]
  },
  {
   "cell_type": "code",
   "execution_count": null,
   "id": "13e2e536",
   "metadata": {},
   "outputs": [],
   "source": []
  }
 ],
 "metadata": {
  "kernelspec": {
   "display_name": "Python 3 (ipykernel)",
   "language": "python",
   "name": "python3"
  },
  "language_info": {
   "codemirror_mode": {
    "name": "ipython",
    "version": 3
   },
   "file_extension": ".py",
   "mimetype": "text/x-python",
   "name": "python",
   "nbconvert_exporter": "python",
   "pygments_lexer": "ipython3",
   "version": "3.9.13"
  }
 },
 "nbformat": 4,
 "nbformat_minor": 5
}
